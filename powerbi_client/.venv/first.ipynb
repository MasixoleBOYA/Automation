{
 "cells": [
  {
   "cell_type": "code",
   "execution_count": 1,
   "metadata": {},
   "outputs": [],
   "source": [
    "from powerbiclient import QuickVisualize, get_dataset_config, report\n",
    "import pandas as pd\n",
    "\n",
    "from faker import Faker\n",
    "import random"
   ]
  },
  {
   "cell_type": "markdown",
   "metadata": {},
   "source": [
    "# Mock data"
   ]
  },
  {
   "cell_type": "code",
   "execution_count": 2,
   "metadata": {},
   "outputs": [],
   "source": [
    "random.seed(42)\n",
    "\n",
    "# Function to generate random purchase data\n",
    "def generate_purchase_data(num_records=100):\n",
    "    fake = Faker()\n",
    "    data = {\n",
    "        'Customer': [fake.name() for _ in range(num_records)],\n",
    "        'Branch': random.choices(['School Tuck Shop', 'Street Shop', 'House Shop'], k=num_records),\n",
    "        'Product': random.choices(['Chips', 'Sweets'], k=num_records),\n",
    "        'Quantity': [random.randint(1, 10) for _ in range(num_records)],\n",
    "        'Revenue': [round(random.uniform(1, 10), 2) for _ in range(num_records)],\n",
    "        'Date': [fake.date_this_decade() for _ in range(num_records)]\n",
    "    }\n",
    "    return pd.DataFrame(data)\n",
    "\n",
    "# Generate mock data\n",
    "mock_data = generate_purchase_data()"
   ]
  },
  {
   "cell_type": "code",
   "execution_count": 3,
   "metadata": {},
   "outputs": [
    {
     "data": {
      "text/html": [
       "<div>\n",
       "<style scoped>\n",
       "    .dataframe tbody tr th:only-of-type {\n",
       "        vertical-align: middle;\n",
       "    }\n",
       "\n",
       "    .dataframe tbody tr th {\n",
       "        vertical-align: top;\n",
       "    }\n",
       "\n",
       "    .dataframe thead th {\n",
       "        text-align: right;\n",
       "    }\n",
       "</style>\n",
       "<table border=\"1\" class=\"dataframe\">\n",
       "  <thead>\n",
       "    <tr style=\"text-align: right;\">\n",
       "      <th></th>\n",
       "      <th>Customer</th>\n",
       "      <th>Branch</th>\n",
       "      <th>Product</th>\n",
       "      <th>Quantity</th>\n",
       "      <th>Revenue</th>\n",
       "      <th>Date</th>\n",
       "    </tr>\n",
       "  </thead>\n",
       "  <tbody>\n",
       "    <tr>\n",
       "      <th>0</th>\n",
       "      <td>Rick Dodson</td>\n",
       "      <td>Street Shop</td>\n",
       "      <td>Chips</td>\n",
       "      <td>2</td>\n",
       "      <td>3.45</td>\n",
       "      <td>2021-11-01</td>\n",
       "    </tr>\n",
       "    <tr>\n",
       "      <th>1</th>\n",
       "      <td>Carrie Wilcox</td>\n",
       "      <td>School Tuck Shop</td>\n",
       "      <td>Sweets</td>\n",
       "      <td>4</td>\n",
       "      <td>6.44</td>\n",
       "      <td>2023-11-17</td>\n",
       "    </tr>\n",
       "    <tr>\n",
       "      <th>2</th>\n",
       "      <td>Michele Boyd</td>\n",
       "      <td>School Tuck Shop</td>\n",
       "      <td>Sweets</td>\n",
       "      <td>3</td>\n",
       "      <td>7.46</td>\n",
       "      <td>2021-11-26</td>\n",
       "    </tr>\n",
       "    <tr>\n",
       "      <th>3</th>\n",
       "      <td>Travis Walker</td>\n",
       "      <td>School Tuck Shop</td>\n",
       "      <td>Sweets</td>\n",
       "      <td>7</td>\n",
       "      <td>2.83</td>\n",
       "      <td>2023-10-21</td>\n",
       "    </tr>\n",
       "    <tr>\n",
       "      <th>4</th>\n",
       "      <td>Kimberly Gordon</td>\n",
       "      <td>House Shop</td>\n",
       "      <td>Chips</td>\n",
       "      <td>8</td>\n",
       "      <td>6.71</td>\n",
       "      <td>2023-07-27</td>\n",
       "    </tr>\n",
       "  </tbody>\n",
       "</table>\n",
       "</div>"
      ],
      "text/plain": [
       "          Customer            Branch Product  Quantity  Revenue        Date\n",
       "0      Rick Dodson       Street Shop   Chips         2     3.45  2021-11-01\n",
       "1    Carrie Wilcox  School Tuck Shop  Sweets         4     6.44  2023-11-17\n",
       "2     Michele Boyd  School Tuck Shop  Sweets         3     7.46  2021-11-26\n",
       "3    Travis Walker  School Tuck Shop  Sweets         7     2.83  2023-10-21\n",
       "4  Kimberly Gordon        House Shop   Chips         8     6.71  2023-07-27"
      ]
     },
     "execution_count": 3,
     "metadata": {},
     "output_type": "execute_result"
    }
   ],
   "source": [
    "mock_data.head()"
   ]
  },
  {
   "cell_type": "code",
   "execution_count": 4,
   "metadata": {},
   "outputs": [
    {
     "name": "stdout",
     "output_type": "stream",
     "text": [
      "Performing device flow authentication. Please follow the instructions below.\n",
      "To sign in, use a web browser to open the page https://microsoft.com/devicelogin and enter the code GXLDXWFLV to authenticate.\n",
      "\n",
      "Device flow authentication successfully completed.\n",
      "You are now logged in .\n",
      "\n",
      "The result should be passed only to trusted code in your notebook.\n"
     ]
    }
   ],
   "source": [
    "from powerbiclient.authentication import DeviceCodeLoginAuthentication\n",
    "    \n",
    "\n",
    "device_auth = DeviceCodeLoginAuthentication()"
   ]
  },
  {
   "cell_type": "code",
   "execution_count": 5,
   "metadata": {},
   "outputs": [],
   "source": [
    "from powerbiclient import QuickVisualize, get_dataset_config, report\n",
    "import pandas as pd\n",
    "\n",
    "from faker import Faker\n",
    "import random"
   ]
  },
  {
   "cell_type": "markdown",
   "metadata": {},
   "source": [
    "# Mock data"
   ]
  },
  {
   "cell_type": "code",
   "execution_count": 6,
   "metadata": {},
   "outputs": [],
   "source": [
    "random.seed(42)\n",
    "\n",
    "# Function to generate random purchase data\n",
    "def generate_purchase_data(num_records=100):\n",
    "    fake = Faker()\n",
    "    data = {\n",
    "        'Customer': [fake.name() for _ in range(num_records)],\n",
    "        'Branch': random.choices(['School Tuck Shop', 'Street Shop', 'House Shop'], k=num_records),\n",
    "        'Product': random.choices(['Chips', 'Sweets'], k=num_records),\n",
    "        'Quantity': [random.randint(1, 10) for _ in range(num_records)],\n",
    "        'Revenue': [round(random.uniform(1, 10), 2) for _ in range(num_records)],\n",
    "        'Date': [fake.date_this_decade() for _ in range(num_records)]\n",
    "    }\n",
    "    return pd.DataFrame(data)\n",
    "\n",
    "# Generate mock data\n",
    "mock_data = generate_purchase_data()"
   ]
  },
  {
   "cell_type": "code",
   "execution_count": 7,
   "metadata": {},
   "outputs": [
    {
     "data": {
      "text/html": [
       "<div>\n",
       "<style scoped>\n",
       "    .dataframe tbody tr th:only-of-type {\n",
       "        vertical-align: middle;\n",
       "    }\n",
       "\n",
       "    .dataframe tbody tr th {\n",
       "        vertical-align: top;\n",
       "    }\n",
       "\n",
       "    .dataframe thead th {\n",
       "        text-align: right;\n",
       "    }\n",
       "</style>\n",
       "<table border=\"1\" class=\"dataframe\">\n",
       "  <thead>\n",
       "    <tr style=\"text-align: right;\">\n",
       "      <th></th>\n",
       "      <th>Customer</th>\n",
       "      <th>Branch</th>\n",
       "      <th>Product</th>\n",
       "      <th>Quantity</th>\n",
       "      <th>Revenue</th>\n",
       "      <th>Date</th>\n",
       "    </tr>\n",
       "  </thead>\n",
       "  <tbody>\n",
       "    <tr>\n",
       "      <th>0</th>\n",
       "      <td>Melissa Walker</td>\n",
       "      <td>Street Shop</td>\n",
       "      <td>Chips</td>\n",
       "      <td>2</td>\n",
       "      <td>3.45</td>\n",
       "      <td>2023-02-12</td>\n",
       "    </tr>\n",
       "    <tr>\n",
       "      <th>1</th>\n",
       "      <td>Nicole Fuller</td>\n",
       "      <td>School Tuck Shop</td>\n",
       "      <td>Sweets</td>\n",
       "      <td>4</td>\n",
       "      <td>6.44</td>\n",
       "      <td>2023-11-27</td>\n",
       "    </tr>\n",
       "    <tr>\n",
       "      <th>2</th>\n",
       "      <td>Justin Alexander</td>\n",
       "      <td>School Tuck Shop</td>\n",
       "      <td>Sweets</td>\n",
       "      <td>3</td>\n",
       "      <td>7.46</td>\n",
       "      <td>2023-09-29</td>\n",
       "    </tr>\n",
       "    <tr>\n",
       "      <th>3</th>\n",
       "      <td>Kelly Brooks</td>\n",
       "      <td>School Tuck Shop</td>\n",
       "      <td>Sweets</td>\n",
       "      <td>7</td>\n",
       "      <td>2.83</td>\n",
       "      <td>2023-08-17</td>\n",
       "    </tr>\n",
       "    <tr>\n",
       "      <th>4</th>\n",
       "      <td>Jonathan Robinson</td>\n",
       "      <td>House Shop</td>\n",
       "      <td>Chips</td>\n",
       "      <td>8</td>\n",
       "      <td>6.71</td>\n",
       "      <td>2022-04-28</td>\n",
       "    </tr>\n",
       "  </tbody>\n",
       "</table>\n",
       "</div>"
      ],
      "text/plain": [
       "            Customer            Branch Product  Quantity  Revenue        Date\n",
       "0     Melissa Walker       Street Shop   Chips         2     3.45  2023-02-12\n",
       "1      Nicole Fuller  School Tuck Shop  Sweets         4     6.44  2023-11-27\n",
       "2   Justin Alexander  School Tuck Shop  Sweets         3     7.46  2023-09-29\n",
       "3       Kelly Brooks  School Tuck Shop  Sweets         7     2.83  2023-08-17\n",
       "4  Jonathan Robinson        House Shop   Chips         8     6.71  2022-04-28"
      ]
     },
     "execution_count": 7,
     "metadata": {},
     "output_type": "execute_result"
    }
   ],
   "source": [
    "mock_data.head()"
   ]
  },
  {
   "cell_type": "markdown",
   "metadata": {},
   "source": [
    "# Client"
   ]
  },
  {
   "cell_type": "code",
   "execution_count": 8,
   "metadata": {},
   "outputs": [
    {
     "name": "stdout",
     "output_type": "stream",
     "text": [
      "Performing device flow authentication. Please follow the instructions below.\n",
      "To sign in, use a web browser to open the page https://microsoft.com/devicelogin and enter the code CKDCXPRUF to authenticate.\n",
      "\n",
      "Device flow authentication successfully completed.\n",
      "You are now logged in .\n",
      "\n",
      "The result should be passed only to trusted code in your notebook.\n"
     ]
    }
   ],
   "source": [
    "from powerbiclient.authentication import DeviceCodeLoginAuthentication\n",
    "    \n",
    "\n",
    "device_auth = DeviceCodeLoginAuthentication()"
   ]
  },
  {
   "cell_type": "code",
   "execution_count": 10,
   "metadata": {},
   "outputs": [
    {
     "data": {
      "application/vnd.jupyter.widget-view+json": {
       "model_id": "2655940165ea4b5aaca33234e3065470",
       "version_major": 2,
       "version_minor": 0
      },
      "text/plain": [
       "QuickVisualize()"
      ]
     },
     "metadata": {},
     "output_type": "display_data"
    }
   ],
   "source": [
    "visualization = QuickVisualize(get_dataset_config(mock_data), dataframe=mock_data, title='Mock Data Visualization', auth=device_auth ,create_config=True)\n",
    "# Open the Power BI service to view the visualization\n",
    "visualization"
   ]
  }
 ],
 "metadata": {
  "kernelspec": {
   "display_name": "Python 3",
   "language": "python",
   "name": "python3"
  },
  "language_info": {
   "codemirror_mode": {
    "name": "ipython",
    "version": 3
   },
   "file_extension": ".py",
   "mimetype": "text/x-python",
   "name": "python",
   "nbconvert_exporter": "python",
   "pygments_lexer": "ipython3",
   "version": "3.10.6"
  }
 },
 "nbformat": 4,
 "nbformat_minor": 2
}
